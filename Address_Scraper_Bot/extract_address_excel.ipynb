{
 "cells": [
  {
   "cell_type": "code",
   "execution_count": 1,
   "metadata": {},
   "outputs": [],
   "source": [
    "import http.client\n",
    "import json\n",
    "import pandas as pd"
   ]
  },
  {
   "cell_type": "code",
   "execution_count": 2,
   "metadata": {},
   "outputs": [],
   "source": [
    "def obter_endereco_por_cep(cep):\n",
    "    conexao = http.client.HTTPSConnection(\"viacep.com.br\")\n",
    "    conexao.request(\"GET\", f\"/ws/{cep}/json/\")\n",
    "\n",
    "    resposta = conexao.getresponse()\n",
    "    dados = resposta.read()\n",
    "    endereco = json.loads(dados.decode(\"utf-8\"))\n",
    "\n",
    "    conexao.close()\n",
    "    return endereco\n"
   ]
  },
  {
   "cell_type": "code",
   "execution_count": 3,
   "metadata": {},
   "outputs": [],
   "source": [
    "def salvar_endereco_excel(endereco, nome_arquivo=\"endereco.xlsx\"):\n",
    "    '''\n",
    "    Salva os dados de endereços obtivos via API em um arquivo excel,\n",
    "    cada parte do endereço em uma coluna separada.\n",
    "    '''\n",
    "    #verifica se o dicionario contem a chave 'erro'\n",
    "    if \"erro\" not in endereco:\n",
    "        '''\n",
    "        Cria um DataFrame do pandas a partir de uma  lista que contem o dicionario de endereço,\n",
    "        estruturando os dados em formato tabular.\n",
    "        '''\n",
    "        data = pd.DataFrame([endereco])\n",
    "        '''\n",
    "        Salva o DataFrame em um arquivo excel. 'index=False' significa que o\n",
    "        indice do DataFrame não sera salvo, mantendo o arquivo limpo apenas com os dados.\n",
    "        '''\n",
    "        data.to_excel(nome_arquivo, index=False)\n",
    "        #Imprime uma mensagem de sucesso, indicando onde os dados foram salvos.\n",
    "        print(f\"Dados salvos com sucesso {nome_arquivo}\")\n",
    "    else: \n",
    "        print(\"Não foi possivel salvar os dados CEP não encontrado\")"
   ]
  },
  {
   "cell_type": "code",
   "execution_count": 4,
   "metadata": {},
   "outputs": [
    {
     "name": "stdout",
     "output_type": "stream",
     "text": [
      "Dados salvos com sucesso endereco.xlsx\n"
     ]
    }
   ],
   "source": [
    "cep_exemplo = \"01001000\"\n",
    "endereco_resultado = obter_endereco_por_cep(cep_exemplo)\n",
    "\n",
    "salvar_endereco_excel(endereco_resultado)"
   ]
  }
 ],
 "metadata": {
  "kernelspec": {
   "display_name": "base",
   "language": "python",
   "name": "python3"
  },
  "language_info": {
   "codemirror_mode": {
    "name": "ipython",
    "version": 3
   },
   "file_extension": ".py",
   "mimetype": "text/x-python",
   "name": "python",
   "nbconvert_exporter": "python",
   "pygments_lexer": "ipython3",
   "version": "3.11.7"
  }
 },
 "nbformat": 4,
 "nbformat_minor": 2
}
