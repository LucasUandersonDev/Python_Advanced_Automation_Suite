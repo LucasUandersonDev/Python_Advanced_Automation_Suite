{
 "cells": [
  {
   "cell_type": "code",
   "execution_count": 1,
   "metadata": {},
   "outputs": [],
   "source": [
    "import http.client\n",
    "import json\n",
    "import pandas as pd"
   ]
  },
  {
   "cell_type": "code",
   "execution_count": 2,
   "metadata": {},
   "outputs": [],
   "source": [
    "cnpj_exemplo = \"33157312000162\""
   ]
  },
  {
   "cell_type": "code",
   "execution_count": 3,
   "metadata": {},
   "outputs": [
    {
     "data": {
      "text/plain": [
       "{'atividade_principal': [{'code': '82.99-7-02',\n",
       "   'text': 'Emissão de vales-alimentação, vales-transporte e similares'}],\n",
       " 'data_situacao': '27/03/2019',\n",
       " 'complemento': 'BLOCO B ANDAR 3 PARTE',\n",
       " 'tipo': 'MATRIZ',\n",
       " 'nome': 'IFOOD BENEFICIOS E SERVICOS LTDA.',\n",
       " 'telefone': '(11) 3634-3360',\n",
       " 'email': 'juridico@ifood.com.br',\n",
       " 'atividades_secundarias': [{'code': '82.99-7-99',\n",
       "   'text': 'Outras atividades de serviços prestados principalmente às empresas não especificadas anteriormente'},\n",
       "  {'code': '64.62-0-00', 'text': 'Holdings de instituições não-financeiras'}],\n",
       " 'qsa': [{'nome': 'FLAVIO DE FREITAS STECCA', 'qual': '05-Administrador'},\n",
       "  {'nome': 'LUCAS MARINI PITTIONI', 'qual': '05-Administrador'},\n",
       "  {'nome': 'IFOOD PARTICIPACOES LTDA.',\n",
       "   'qual': '22-Sócio',\n",
       "   'nome_rep_legal': 'DIEGO CARNEIRO BARRETO',\n",
       "   'qual_rep_legal': '17-Procurador'},\n",
       "  {'nome': 'GUSTAVO CARVALHO MENDES', 'qual': '05-Administrador'},\n",
       "  {'nome': 'DIEGO CARNEIRO BARRETO', 'qual': '05-Administrador'}],\n",
       " 'situacao': 'ATIVA',\n",
       " 'bairro': 'VILA YARA',\n",
       " 'logradouro': 'AV DOS AUTONOMISTAS 1496',\n",
       " 'numero': '1.496',\n",
       " 'cep': '06.020-902',\n",
       " 'municipio': 'OSASCO',\n",
       " 'uf': 'SP',\n",
       " 'porte': 'DEMAIS',\n",
       " 'abertura': '27/03/2019',\n",
       " 'natureza_juridica': '206-2 - Sociedade Empresária Limitada',\n",
       " 'cnpj': '33.157.312/0001-62',\n",
       " 'ultima_atualizacao': '2024-08-15T03:09:23.839Z',\n",
       " 'status': 'OK',\n",
       " 'fantasia': '',\n",
       " 'efr': '',\n",
       " 'motivo_situacao': '',\n",
       " 'situacao_especial': '',\n",
       " 'data_situacao_especial': '',\n",
       " 'capital_social': '453351000.00',\n",
       " 'extra': {},\n",
       " 'billing': {'free': True, 'database': True}}"
      ]
     },
     "execution_count": 3,
     "metadata": {},
     "output_type": "execute_result"
    }
   ],
   "source": [
    "def obter_dados_empresa_por_cnpj(cnpj):\n",
    "    conexao = http.client.HTTPConnection(\"www.receitaws.com.br\")\n",
    "    conexao.request(\"GET\", (f\"/v1/cnpj/{cnpj}\"))\n",
    "    resposta = conexao.getresponse()\n",
    "    print(f\"Status da Resposta HTTP: {resposta.status}\")\n",
    "    if resposta.status != 200:\n",
    "        return {\"Status\": \"ERROR\", \"Message\": f\"Resposta HTTP com status {resposta.status}\"}\n",
    "\n",
    "    dados = resposta.read()\n",
    "    conexao.close()\n",
    "\n",
    "    try:\n",
    "        empresa = json.loads(dados.decode(\"utf-8\"))\n",
    "        print(f\"Empresa decodificada {empresa}\")\n",
    "        return empresa\n",
    "    \n",
    "    except json.JSONDecodeError as e:\n",
    "        print(f\"Erro na codificação do Json: {str(e)}\")\n",
    "        return {\"Status\": \"ERROR\", \"Message\": \"Error na decodificação do json\"}\n",
    "\n",
    "    \n",
    "\n",
    "\n",
    "obter_dados_empresa_por_cnpj(cnpj_exemplo)"
   ]
  },
  {
   "cell_type": "code",
   "execution_count": null,
   "metadata": {},
   "outputs": [],
   "source": []
  }
 ],
 "metadata": {
  "kernelspec": {
   "display_name": "base",
   "language": "python",
   "name": "python3"
  },
  "language_info": {
   "codemirror_mode": {
    "name": "ipython",
    "version": 3
   },
   "file_extension": ".py",
   "mimetype": "text/x-python",
   "name": "python",
   "nbconvert_exporter": "python",
   "pygments_lexer": "ipython3",
   "version": "3.11.7"
  }
 },
 "nbformat": 4,
 "nbformat_minor": 2
}
