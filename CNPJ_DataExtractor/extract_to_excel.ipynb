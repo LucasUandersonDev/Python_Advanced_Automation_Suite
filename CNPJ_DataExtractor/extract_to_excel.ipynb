{
 "cells": [
  {
   "cell_type": "code",
   "execution_count": 1,
   "metadata": {},
   "outputs": [],
   "source": [
    "#Coletando os dados e guardando no excel\n",
    "import http.client \n",
    "import json\n",
    "import pandas as pd\n"
   ]
  },
  {
   "cell_type": "code",
   "execution_count": null,
   "metadata": {},
   "outputs": [],
   "source": [
    "cnpj_exemplo = \"33157312000162\"\n",
    "\n",
    "\n",
    "def obter_dados_empresa_cnpj(cnpj):\n",
    "    conexao = http.client.HTTPSConnection(\"www.receitaws.com.br\")\n",
    "    conexao.request(\"GET\", f\"/v1/cnpj/{cnpj}\")\n",
    "\n",
    "    resposta = conexao.getresponse()\n",
    "    print(f\"Status da Resposta HTTP: {resposta.status}\")\n",
    "\n",
    "    if resposta.status != 200:\n",
    "        return {\"Status\": \"ERROR\", \"Menssage\": f\"Resposta HTTP com status {resposta.status}\"}\n",
    "    \n",
    "    dados = resposta.read()\n",
    "    conexao.close()\n",
    "\n",
    "    try:\n",
    "        empresa = json.loads(dados.decode(\"utf-8\"))\n",
    "        print(f\"Empresa decodificada: {empresa}\")\n",
    "        return empresa\n",
    "\n",
    "    except json.JSONDecodeError as e:\n",
    "\n",
    "        print(f\"Erro na decodificação do JSON{str(e)}\")\n",
    "        return {\"Status\": \"ERROR\", \"Menssage\": \"Erro na decodificação do json \"}\n",
    "\n",
    "\n",
    "\n",
    "\n",
    "dados_empresa = obter_dados_empresa_cnpj(cnpj_exemplo)\n",
    "salvar_dados_empresa_excel(dados_empresa)"
   ]
  }
 ],
 "metadata": {
  "kernelspec": {
   "display_name": "base",
   "language": "python",
   "name": "python3"
  },
  "language_info": {
   "codemirror_mode": {
    "name": "ipython",
    "version": 3
   },
   "file_extension": ".py",
   "mimetype": "text/x-python",
   "name": "python",
   "nbconvert_exporter": "python",
   "pygments_lexer": "ipython3",
   "version": "3.11.7"
  }
 },
 "nbformat": 4,
 "nbformat_minor": 2
}
