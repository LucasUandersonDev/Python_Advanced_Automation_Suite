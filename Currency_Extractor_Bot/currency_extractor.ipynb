{
 "cells": [
  {
   "cell_type": "code",
   "execution_count": 1,
   "metadata": {},
   "outputs": [
    {
     "name": "stdout",
     "output_type": "stream",
     "text": [
      "5,57\n"
     ]
    }
   ],
   "source": [
    "#Importei o selenium para trabalhar com as paginas da web\n",
    "from selenium import webdriver \n",
    "from selenium.webdriver.common.keys import Keys\n",
    "\n",
    "#Importando o pyautogui para trabalhar com tempo, mouse e teclado\n",
    "import pyautogui \n",
    "#Usando o By para trabalhar com as atualizações mais recentes \n",
    "from selenium.webdriver.common.by import By\n",
    "\n",
    "\n",
    "#EXTRAIDO O VALOR DE DOLAR\n",
    "\n",
    "\n",
    "#Passamos autorização ao acesso as configurações do Chrome\n",
    "navegador = webdriver.Chrome()\n",
    "navegador.get(\"https://www.google.com.br/\")\n",
    "#Aguarda 4 segundo para dar tempo do computador processar as informações\n",
    "pyautogui.sleep(4)\n",
    "\n",
    "#Procurando pelo elemento NAME e quando encontrar vou escrever Dolar hoje\n",
    "navegador.find_element(By.NAME, \"q\").send_keys(\"Dolar Hoje\")\n",
    "\n",
    "pyautogui.sleep(4)\n",
    "\n",
    "#Retorna para o campo name q\n",
    "#Faz a busca do valor que está digitado no campo NAME q (TECLAENTER)\n",
    "navegador.find_element(By.NAME, \"q\").send_keys(Keys.RETURN)\n",
    "\n",
    "pyautogui.sleep(4)\n",
    "\n",
    "valorDolarPeloGoogle = navegador.find_elements(By.XPATH, '//*[@id=\"knowledge-currency__updatable-data-column\"]/div[1]/div[2]/span[1]')[0].text\n",
    "\n",
    "print(valorDolarPeloGoogle)"
   ]
  },
  {
   "cell_type": "code",
   "execution_count": 2,
   "metadata": {},
   "outputs": [
    {
     "name": "stdout",
     "output_type": "stream",
     "text": [
      "6,08\n"
     ]
    }
   ],
   "source": [
    "#EXTRAINDO O VALOR DO EURO \n",
    "\n",
    "\n",
    "#Aguardar 2 segundo para dar tempo do computador processar informações \n",
    "pyautogui.sleep(2)\n",
    "\n",
    "#Deixando o campo em branco \n",
    "navegador.find_element(By.NAME, \"q\").send_keys(\"\")\n",
    "\n",
    "pyautogui.sleep(4)\n",
    "pyautogui.press('tab')\n",
    "\n",
    "pyautogui.sleep(4)\n",
    "pyautogui.press('enter')\n",
    "\n",
    "\n",
    "pyautogui.sleep(4)\n",
    "#Procurando pelo elemento NAME e quando encontrar vou escrever Dolar hoje\n",
    "navegador.find_element(By.NAME, \"q\").send_keys(\"Euro Hoje\")\n",
    "pyautogui.sleep(4)\n",
    "navegador.find_element(By.NAME, \"q\").send_keys(Keys.RETURN)\n",
    "\n",
    "\n",
    "\n",
    "pyautogui.sleep(4)\n",
    "\n",
    "#No resultado da pesquisa pegamo o XPATH e no meios pegamos o primeiro elemento da lista\n",
    "valorEuroPeloGoogle = navegador.find_elements(By.XPATH, '//*[@id=\"knowledge-currency__updatable-data-column\"]/div[1]/div[2]/span[1]')[0].text\n",
    "                                                         \n",
    "#Aguarda 4 segundo para dar tempo do computador processar as informações\n",
    "pyautogui.sleep(4)\n",
    "\n",
    "print(valorEuroPeloGoogle)"
   ]
  },
  {
   "cell_type": "code",
   "execution_count": 3,
   "metadata": {},
   "outputs": [],
   "source": [
    "import xlsxwriter\n",
    "import os\n",
    "\n",
    "nomeCaminhoArquivo = \"C:\\\\Users\\\\LucasUanderson\\\\Documents\\\\GitHub\\\\Python_Advanced_Automation_Suite\\\\Extract_Web_Excel\\\\Dolar e Euro Google.xlsx\"\n",
    "planilhaCriada = xlsxwriter.Workbook(nomeCaminhoArquivo)\n",
    "sheet1 = planilhaCriada.add_worksheet()\n",
    "\n",
    "sheet1 .write(\"A1\",\"Dolar\")\n",
    "sheet1 .write(\"B1\",\"Euro\")\n",
    "#Valor como texto\n",
    "sheet1 .write(\"A2\",valorDolarPeloGoogle)\n",
    "sheet1 .write(\"B2\", valorEuroPeloGoogle)\n",
    "pyautogui.sleep(1)\n",
    "\n",
    "#Substituir a virgula por ponto mundando o virgula 5,38 por 5.38\n",
    "#Assim conseguimos converter dolar para float, caso não substitua a virgula dara error \n",
    "valorDolarPeloGoogle = valorDolarPeloGoogle.replace(',','.')\n",
    "valorEuroPeloGoogle = valorEuroPeloGoogle.replace(',','.')\n",
    "pyautogui.sleep(1)\n",
    "#Convertendo o valor do Dolar e Euro de string para float \n",
    "valor_Dolar_Tipo_Float = float(valorDolarPeloGoogle)\n",
    "valor_Euro_Tipo_Float = float(valorEuroPeloGoogle)\n",
    "pyautogui.sleep(1)\n",
    "#Valor como float \n",
    "sheet1 .write(\"A3\",valor_Dolar_Tipo_Float)\n",
    "sheet1 .write(\"B3\", valor_Dolar_Tipo_Float)\n",
    "\n",
    "\n",
    "\n",
    "#Fechando o arquivo do excel que esta em segundo plano \n",
    "planilhaCriada.close()\n",
    "\n",
    "#Abro o arquivo\n",
    "os.startfile(nomeCaminhoArquivo)"
   ]
  }
 ],
 "metadata": {
  "kernelspec": {
   "display_name": ".env",
   "language": "python",
   "name": "python3"
  },
  "language_info": {
   "codemirror_mode": {
    "name": "ipython",
    "version": 3
   },
   "file_extension": ".py",
   "mimetype": "text/x-python",
   "name": "python",
   "nbconvert_exporter": "python",
   "pygments_lexer": "ipython3",
   "version": "3.11.7"
  }
 },
 "nbformat": 4,
 "nbformat_minor": 2
}
